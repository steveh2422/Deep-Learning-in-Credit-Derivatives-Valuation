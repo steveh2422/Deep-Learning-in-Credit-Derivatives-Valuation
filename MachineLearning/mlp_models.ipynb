{
 "cells": [
  {
   "cell_type": "code",
   "execution_count": 7,
   "metadata": {},
   "outputs": [],
   "source": [
    "# Library requirements \n",
    "from tensorflow.keras.models import Sequential, Model, load_model\n",
    "from tensorflow.keras.layers import Dense, BatchNormalization, Input\n",
    "from tensorflow.keras.optimizers import Adam \n",
    "from tensorflow.keras.initializers import HeNormal, GlorotUniform, GlorotNormal\n",
    "from tensorflow.keras.callbacks import EarlyStopping\n",
    "import tensorflow as tf"
   ]
  },
  {
   "cell_type": "markdown",
   "metadata": {},
   "source": [
    "## MLP Models  \n",
    "Selection of Multi-Layer Perceptron model architctures used for experimentation"
   ]
  },
  {
   "cell_type": "code",
   "execution_count": null,
   "metadata": {},
   "outputs": [],
   "source": [
    "def build_model(model_name, X_train):\n",
    "    \"\"\"\n",
    "    Builds and returns a multi-layer perceptron neural network model based on the specified model name.\n",
    "\n",
    "    Parameters:\n",
    "    -----------\n",
    "    model_name : str: name of the model to build. ()'model_small', 'model_medium', 'model_large', 'model_flat')\n",
    "    X_train : DataFrame: training data used to determine the input shape of the model.\n",
    "\n",
    "    Returns:\n",
    "    --------\n",
    "    A Keras Sequential model configured based on the specified model name.\n",
    "    \"\"\"\n",
    "    if (model_name == 'model_small'):\n",
    "    # model_small = model_s(32_16_8_1_BN_KI)\n",
    "        model_small = Sequential([\n",
    "            Dense(32, activation='relu', input_shape=(X_train.shape[1],), kernel_initializer=glorot_normal()),\n",
    "            BatchNormalization(),\n",
    "            Dense(16, activation='relu', kernel_initializer=glorot_normal()),\n",
    "            BatchNormalization(),\n",
    "            Dense(8, activation='relu', kernel_initializer=glorot_normal()),\n",
    "            Dense(1, kernel_initializer=GlorotUniform())  # Output layer with a single neuron for regression\n",
    "        ])\n",
    "        return model_small\n",
    "    elif (model_name == 'model_medium'):\n",
    "        # model_medium = model_m(64_32_16_1_BN_KI)\n",
    "        model_medium = Sequential([\n",
    "            Dense(64, activation='relu', input_shape=(X_train.shape[1],), kernel_initializer=HeNormal()),\n",
    "            BatchNormalization(),\n",
    "            Dense(32, activation='relu', kernel_initializer=HeNormal()),\n",
    "            BatchNormalization(),\n",
    "            Dense(16, activation='relu', kernel_initializer=HeNormal()),\n",
    "            Dense(1, kernel_initializer=GlorotUniform())  # Output layer with a single neuron for regression\n",
    "        ])\n",
    "        return model_medium \n",
    "    \n",
    "    # A Deeper model \n",
    "    elif (model_name == 'model_large'):\n",
    "        # model_large = model_l(128_64_32_16_1_BN_KI)\n",
    "        model_large = Sequential([\n",
    "            Dense(128, activation='relu', input_shape=(X_train.shape[1],), kernel_initializer=HeNormal()),\n",
    "            BatchNormalization(),\n",
    "            Dense(64, activation='relu', kernel_initializer=HeNormal()),\n",
    "            BatchNormalization(),\n",
    "            Dense(32, activation='relu', kernel_initializer=HeNormal()),\n",
    "            BatchNormalization(),\n",
    "            Dense(16, activation='relu', kernel_initializer=HeNormal()),\n",
    "            Dense(1, kernel_initializer=GlorotUniform())  # Output layer with a single neuron for regression\n",
    "        ])\n",
    "        return model_large\n",
    "    \n",
    "    elif (model_name == 'model_flat'):\n",
    "        # model_test = model_flat_(20_20_20__20_1_KIG_SP)\n",
    "        model_test = Sequential([\n",
    "            Dense(20, activation='softplus', input_shape=(X_train.shape[1],), kernel_initializer=GlorotNormal()),\n",
    "            Dense(20, activation='softplus', kernel_initializer=GlorotNormal()),\n",
    "            Dense(20, activation='softplus', kernel_initializer=GlorotNormal()),\n",
    "            Dense(20, activation='softplus', kernel_initializer=GlorotNormal()),\n",
    "            Dense(1, activation='linear', kernel_initializer=GlorotNormal(), name='y_pred')\n",
    "         ])\n",
    "        return model_test\n",
    "    \n",
    "  "
   ]
  }
 ],
 "metadata": {
  "kernelspec": {
   "display_name": "Python 3",
   "language": "python",
   "name": "python3"
  },
  "language_info": {
   "codemirror_mode": {
    "name": "ipython",
    "version": 3
   },
   "file_extension": ".py",
   "mimetype": "text/x-python",
   "name": "python",
   "nbconvert_exporter": "python",
   "pygments_lexer": "ipython3",
   "version": "3.9.1"
  }
 },
 "nbformat": 4,
 "nbformat_minor": 2
}
